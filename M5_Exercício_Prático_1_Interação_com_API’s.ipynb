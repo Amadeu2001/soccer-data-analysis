{
  "nbformat": 4,
  "nbformat_minor": 0,
  "metadata": {
    "colab": {
      "provenance": []
    },
    "kernelspec": {
      "name": "python3",
      "display_name": "Python 3"
    },
    "language_info": {
      "name": "python"
    }
  },
  "cells": [
    {
      "cell_type": "code",
      "execution_count": 1,
      "metadata": {
        "id": "i-W81rpCVeTO"
      },
      "outputs": [],
      "source": [
        "import pandas as pd\n",
        "import requests\n",
        "import json"
      ]
    },
    {
      "cell_type": "code",
      "source": [
        "#Link da API para ir buscar os jogos da liga com ID 2021 da season 2024/2025\n",
        "url = \"https://api.football-data.org/v4/competitions/2021/matches?season=2024\"\n",
        "\n",
        "#dados para a conexao com a API\n",
        "headers = {\"X-Auth-Token\" : \"627885080ca24b25ab7fd22dda93e13c\"}\n",
        "\n",
        "#faz o GET com o URL e com os dados para conexao\n",
        "response = requests.request(\"GET\", url, headers=headers)\n",
        "\n",
        "#guarda o resultado da API em formato JSON no data\n",
        "data = json.loads(response.text)\n"
      ],
      "metadata": {
        "id": "o3tXjWc_b2Ix"
      },
      "execution_count": 2,
      "outputs": []
    },
    {
      "cell_type": "code",
      "source": [
        "print(data)\n",
        "\n",
        "print(data[\"matches\"])"
      ],
      "metadata": {
        "id": "Zmayyjk5lDEX"
      },
      "execution_count": null,
      "outputs": []
    },
    {
      "cell_type": "code",
      "source": [
        "#cria um dataframe com toda a informação dos jogos, por jogo\n",
        "df = pd.json_normalize(data[\"matches\"])"
      ],
      "metadata": {
        "id": "Q2SmU-ASchYS"
      },
      "execution_count": 4,
      "outputs": []
    },
    {
      "cell_type": "code",
      "source": [
        "df"
      ],
      "metadata": {
        "id": "EM14TFAvgb7Q"
      },
      "execution_count": null,
      "outputs": []
    },
    {
      "cell_type": "code",
      "source": [
        "#elimina colunas que não são precisas\n",
        "df2 = df.drop([\"status\", \"stage\", \"group\", \"lastUpdated\", \"referees\", \"area.id\", \"area.name\", \"area.code\", \"area.flag\", \"competition.id\", \"competition.name\", \"competition.code\", \"competition.type\", \"competition.emblem\", \"season.id\", \"season.startDate\", \"season.endDate\", \"season.currentMatchday\", \"season.winner\",\"odds.msg\", \"homeTeam.crest\", \"awayTeam.crest\", \"homeTeam.name\", \"awayTeam.name\", \"homeTeam.tla\",\"awayTeam.tla\",\"utcDate\"], axis = 1)"
      ],
      "metadata": {
        "id": "s6Ec4BXR4AnG"
      },
      "execution_count": 6,
      "outputs": []
    },
    {
      "cell_type": "code",
      "source": [
        "df2"
      ],
      "metadata": {
        "id": "EvKn31ch8H0q"
      },
      "execution_count": null,
      "outputs": []
    },
    {
      "cell_type": "code",
      "source": [
        "#numero de jogos\n",
        "N_jogos = df2[\"matchday\"].nunique()\n",
        "N_jogos"
      ],
      "metadata": {
        "id": "Gyg7_6xW-r04"
      },
      "execution_count": null,
      "outputs": []
    },
    {
      "cell_type": "markdown",
      "source": [
        "# **começa aqui o tratamento da 1ª parte da questão**\n",
        "\n",
        "> Adicionar blockquote\n",
        "\n"
      ],
      "metadata": {
        "id": "v3DYIRx_98-1"
      }
    },
    {
      "cell_type": "code",
      "source": [
        "#cria um dataframe com as colunas Nome da equipa e ID\n",
        "Equipas = df2[['homeTeam.shortName', 'homeTeam.id']].drop_duplicates()"
      ],
      "metadata": {
        "id": "uVEkQyZSVWQv"
      },
      "execution_count": 12,
      "outputs": []
    },
    {
      "cell_type": "code",
      "source": [
        "Equipas"
      ],
      "metadata": {
        "id": "2jNYdnqhicIv"
      },
      "execution_count": null,
      "outputs": []
    },
    {
      "cell_type": "code",
      "source": [
        "#acrescenta ao dataframe anterior a coluna \"Pontos_MR\" com os valores todos a zero\n",
        "Equipas[\"Pontos_MR\"] = 0\n",
        "\n",
        "#garante que a coluna Pontos é INT\n",
        "Equipas['Pontos_MR'] = Equipas['Pontos_MR'].astype(int)\n",
        "#garante que a coluna homeTeam.id é INT\n",
        "Equipas['homeTeam.id'] = Equipas['homeTeam.id'].astype(int)"
      ],
      "metadata": {
        "id": "e-inVEs3jfC4"
      },
      "execution_count": 14,
      "outputs": []
    },
    {
      "cell_type": "code",
      "source": [
        "# Loop pelos jogos\n",
        "for _, row in df2.iterrows():\n",
        "    #ve se a equipa que venceu foi a equipa da casa e quem venceu a primeira parte foi a equipa da casa\n",
        "    if (\n",
        "        row['score.winner'] == 'HOME_TEAM' and\n",
        "        row['score.halfTime.home'] > row['score.halfTime.away']\n",
        "    ):\n",
        "        #guarda o id da equipa se as condições de cima forem satisfeitas\n",
        "        id_home = row['homeTeam.id']\n",
        "\n",
        "\n",
        "        # Verificar se o ID da equipa da casa existe\n",
        "        if id_home in Equipas['homeTeam.id'].values:\n",
        "            #acrescenta 1 ponto na coluna Pontos_MR\n",
        "            Equipas.loc[Equipas['homeTeam.id'] == id_home, 'Pontos_MR'] += 1\n"
      ],
      "metadata": {
        "id": "7Oi2hQVOj1xX"
      },
      "execution_count": 15,
      "outputs": []
    },
    {
      "cell_type": "code",
      "source": [
        "Equipas"
      ],
      "metadata": {
        "id": "KhrqQApXmqzw"
      },
      "execution_count": null,
      "outputs": []
    },
    {
      "cell_type": "code",
      "source": [
        "#ordena pelo numero de pontos que cada equipa tem\n",
        "Equipas_SegurarResultadoHOME = Equipas.sort_values(by='Pontos_MR', ascending=False)"
      ],
      "metadata": {
        "id": "7nX71w6wDJZg"
      },
      "execution_count": 17,
      "outputs": []
    },
    {
      "cell_type": "code",
      "source": [
        "Equipas_SegurarResultadoHOME"
      ],
      "metadata": {
        "id": "GcT6XMYM5BlV"
      },
      "execution_count": null,
      "outputs": []
    },
    {
      "cell_type": "code",
      "source": [
        "#faz a percentagem de vezes que isso aconteceu para cada equipa\n",
        "Equipas_SegurarResultadoHOME[\"Percentagem_MR\"] = (Equipas_SegurarResultadoHOME[\"Pontos_MR\"] / N_jogos)*100"
      ],
      "metadata": {
        "id": "3x0r1k4u_aSK"
      },
      "execution_count": 19,
      "outputs": []
    },
    {
      "cell_type": "code",
      "source": [
        "Equipas_SegurarResultadoHOME"
      ],
      "metadata": {
        "id": "uOtDBkkM_vSS"
      },
      "execution_count": null,
      "outputs": []
    },
    {
      "cell_type": "code",
      "source": [
        "Equipas_SegurarResultadoHOME = Equipas_SegurarResultadoHOME.rename(columns={\"homeTeam.shortName\": \"Equipa\", \"homeTeam.id\": \"ID_Equipa\"})"
      ],
      "metadata": {
        "id": "4akgRIS9TeZ0"
      },
      "execution_count": 21,
      "outputs": []
    },
    {
      "cell_type": "markdown",
      "source": [
        "# **começa aqui o tratamento da 2ª questão**"
      ],
      "metadata": {
        "id": "KBEKb5iP-V6j"
      }
    },
    {
      "cell_type": "code",
      "source": [
        "#cria um dataframe com as colunas Nome da equipa e ID\n",
        "Equipas_Viraram_Resultado = df2[['homeTeam.shortName', 'homeTeam.id']].drop_duplicates()\n",
        "Equipas_Viraram_Resultado"
      ],
      "metadata": {
        "id": "bQIeMRjl5eVn"
      },
      "execution_count": null,
      "outputs": []
    },
    {
      "cell_type": "code",
      "source": [
        "Equipas_Viraram_Resultado[\"Pontos_VR\"] = 0\n",
        "\n",
        "#garante que a coluna Pontos é INT\n",
        "Equipas_Viraram_Resultado['Pontos_VR'] = Equipas_Viraram_Resultado['Pontos_VR'].astype(int)\n",
        "#garante que a coluna homeTeam.id é INT\n",
        "Equipas_Viraram_Resultado['homeTeam.id'] = Equipas_Viraram_Resultado['homeTeam.id'].astype(int)\n",
        "Equipas_Viraram_Resultado"
      ],
      "metadata": {
        "id": "Q4GLAJeD7ZDx"
      },
      "execution_count": null,
      "outputs": []
    },
    {
      "cell_type": "code",
      "source": [
        "# Loop pelos jogos\n",
        "for _, row in df2.iterrows():\n",
        "    # Caso a equipa da casa ganhe após estar a perder ao intervalo\n",
        "    if (\n",
        "        row['score.winner'] == 'HOME_TEAM'\n",
        "        and row['score.halfTime.home'] < row['score.halfTime.away']\n",
        "    ):\n",
        "        id_home = row['homeTeam.id']\n",
        "\n",
        "        # Verificar se o ID da equipa da casa existe no DataFrame\n",
        "        if id_home in Equipas_Viraram_Resultado['homeTeam.id'].values:\n",
        "            Equipas_Viraram_Resultado.loc[Equipas_Viraram_Resultado['homeTeam.id'] == id_home, 'Pontos_VR'] += 1\n",
        "\n",
        "    # Caso a equipa visitante ganhe após estar a perder ao intervalo\n",
        "    elif (\n",
        "        row[\"score.winner\"] == \"AWAY_TEAM\"\n",
        "        and row[\"score.halfTime.home\"] > row[\"score.halfTime.away\"]\n",
        "    ):\n",
        "        id_away = row['awayTeam.id']\n",
        "\n",
        "        # Verificar se o ID da equipa visitante existe no DataFrame\n",
        "        if id_away in Equipas_Viraram_Resultado['homeTeam.id'].values:\n",
        "            Equipas_Viraram_Resultado.loc[Equipas_Viraram_Resultado['homeTeam.id'] == id_away, 'Pontos_VR'] += 1\n"
      ],
      "metadata": {
        "id": "dtm8da1k7fFI"
      },
      "execution_count": 24,
      "outputs": []
    },
    {
      "cell_type": "code",
      "source": [
        "Equipas_Viraram_Resultado"
      ],
      "metadata": {
        "id": "dYVMU3B885SP"
      },
      "execution_count": null,
      "outputs": []
    },
    {
      "cell_type": "code",
      "source": [
        "\n",
        "Equipas_Viraram_Resultado = Equipas_Viraram_Resultado.sort_values(by='Pontos_VR', ascending=False)"
      ],
      "metadata": {
        "id": "-6RPEwu69Y4O"
      },
      "execution_count": 26,
      "outputs": []
    },
    {
      "cell_type": "code",
      "source": [
        "Equipas_Viraram_Resultado"
      ],
      "metadata": {
        "id": "akeqOaKg9lwN"
      },
      "execution_count": null,
      "outputs": []
    },
    {
      "cell_type": "code",
      "source": [
        "Equipas_Viraram_Resultado[\"Percentagem_VR\"] = (Equipas_Viraram_Resultado[\"Pontos_VR\"] / N_jogos)*100"
      ],
      "metadata": {
        "id": "6GPD6MMs9mbN"
      },
      "execution_count": 28,
      "outputs": []
    },
    {
      "cell_type": "code",
      "source": [
        "Equipas_Viraram_Resultado"
      ],
      "metadata": {
        "id": "HLmfkbU4_6z4"
      },
      "execution_count": null,
      "outputs": []
    },
    {
      "cell_type": "code",
      "source": [
        "Equipas_Viraram_Resultado = Equipas_Viraram_Resultado.rename(columns={\"homeTeam.shortName\": \"Equipa\", \"homeTeam.id\": \"ID_Equipa\"})"
      ],
      "metadata": {
        "id": "shCcFRWAUNwe"
      },
      "execution_count": 30,
      "outputs": []
    },
    {
      "cell_type": "markdown",
      "source": [
        "## **Estou a juntar as 2 tabelas numa ós**"
      ],
      "metadata": {
        "id": "WXMXuehZC354"
      }
    },
    {
      "cell_type": "code",
      "source": [
        "# Juntar as tabelas numa só\n",
        "Equipas_VResultado_MResultado = Equipas_SegurarResultadoHOME.merge(Equipas_Viraram_Resultado[['ID_Equipa', 'Pontos_VR', 'Percentagem_VR']], on='ID_Equipa', how='left')\n"
      ],
      "metadata": {
        "id": "Wet_sCCL_78u"
      },
      "execution_count": 31,
      "outputs": []
    },
    {
      "cell_type": "code",
      "source": [
        "Equipas_VResultado_MResultado"
      ],
      "metadata": {
        "id": "Lo0zFjeKBpE6"
      },
      "execution_count": null,
      "outputs": []
    },
    {
      "cell_type": "markdown",
      "source": [
        "## **Vou fazer a classificação final do campionato**"
      ],
      "metadata": {
        "id": "26Tx-mrvDC3P"
      }
    },
    {
      "cell_type": "code",
      "source": [
        "classificação = df2[['homeTeam.shortName', 'homeTeam.id']].drop_duplicates()\n",
        "classificação"
      ],
      "metadata": {
        "id": "zWp8OsUeBraD"
      },
      "execution_count": null,
      "outputs": []
    },
    {
      "cell_type": "code",
      "source": [
        "classificação[\"Pontos\"] = 0\n",
        "\n",
        "#garante que a coluna Pontos é INT\n",
        "classificação['Pontos'] = classificação['Pontos'].astype(int)\n",
        "#garante que a coluna homeTeam.id é INT\n",
        "classificação['homeTeam.id'] = classificação['homeTeam.id'].astype(int)\n",
        "classificação"
      ],
      "metadata": {
        "id": "X1Rl1uiEDZj6"
      },
      "execution_count": null,
      "outputs": []
    },
    {
      "cell_type": "code",
      "source": [
        "# Loop pelos jogos\n",
        "for _, row in df2.iterrows():\n",
        "    # Caso a equipa da casa ganhe\n",
        "    if (row['score.winner'] == 'HOME_TEAM'):\n",
        "        id_home = row['homeTeam.id']\n",
        "\n",
        "        classificação.loc[classificação['homeTeam.id'] == id_home, 'Pontos'] += 3\n",
        "\n",
        "    # Caso a equipa visitante ganhe\n",
        "    elif (row[\"score.winner\"] == \"AWAY_TEAM\"):\n",
        "        id_away = row['awayTeam.id']\n",
        "\n",
        "        classificação.loc[classificação['homeTeam.id'] == id_away, 'Pontos'] += 3\n",
        "\n",
        "    else:\n",
        "      id_home = row['homeTeam.id']\n",
        "      id_away = row['awayTeam.id']\n",
        "\n",
        "      classificação.loc[classificação['homeTeam.id'] == id_away, 'Pontos'] += 1\n",
        "      classificação.loc[classificação['homeTeam.id'] == id_home, 'Pontos'] += 1\n",
        "\n"
      ],
      "metadata": {
        "id": "3122WEscDc8C"
      },
      "execution_count": 35,
      "outputs": []
    },
    {
      "cell_type": "code",
      "source": [
        "classificação"
      ],
      "metadata": {
        "id": "68Oychl0GGHq"
      },
      "execution_count": null,
      "outputs": []
    },
    {
      "cell_type": "code",
      "source": [
        "classificação = classificação.sort_values(by='Pontos', ascending=False)"
      ],
      "metadata": {
        "id": "D8Xm1CG8GIPS"
      },
      "execution_count": 37,
      "outputs": []
    },
    {
      "cell_type": "code",
      "source": [
        "classificação"
      ],
      "metadata": {
        "id": "lpstPDN_GPg6"
      },
      "execution_count": null,
      "outputs": []
    },
    {
      "cell_type": "code",
      "source": [
        "classificação = classificação.rename(columns={\"homeTeam.shortName\": \"Equipa\", \"homeTeam.id\": \"ID_Equipa\"})"
      ],
      "metadata": {
        "id": "VraEOgWGGRF2"
      },
      "execution_count": 39,
      "outputs": []
    }
  ]
}